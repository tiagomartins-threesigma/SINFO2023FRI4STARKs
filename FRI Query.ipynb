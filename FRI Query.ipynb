{
 "cells": [
  {
   "cell_type": "markdown",
   "id": "a546b0db",
   "metadata": {},
   "source": [
    "## https://github.com/tiagomartins-threesigma/SINFO2023FRI4STARKs"
   ]
  },
  {
   "cell_type": "code",
   "execution_count": 1,
   "id": "c35c278a",
   "metadata": {
    "scrolled": true
   },
   "outputs": [
    {
     "name": "stdout",
     "output_type": "stream",
     "text": [
      "prime = 12289\n"
     ]
    }
   ],
   "source": [
    "%run Base.ipynb"
   ]
  },
  {
   "cell_type": "markdown",
   "id": "79916e6a",
   "metadata": {},
   "source": [
    "# FRI Query Phase\n",
    "In the query phase, the verifier tries to find inconsistencies between the previously committed sequence of polynomial evaluations and the new evaluations that are computed from the queries. \n",
    "\n",
    "### Deserialize the FRI Commitment\n",
    "First, to simulate the existence of an oracle we will import the data from the FRI Commitment file. In reality, commitments are implemented by building Merkle trees, and decommitments are accompanied with Merkle-proofs. But here, we will just \"import\" the lists $\\texttt{p}$ and $\\texttt{z}$ from an external file through Pickle object deserialization.\n",
    "\n",
    "Moreover, the polynomial of the last layer must be constant, so we will use one of its evaluatio values to define the constant $C$. "
   ]
  },
  {
   "cell_type": "code",
   "execution_count": 2,
   "id": "b966c029",
   "metadata": {},
   "outputs": [],
   "source": [
    "import pickle\n",
    "file = open('FRI_Commitment_File.out', 'rb')\n",
    "data = pickle.load(file)\n",
    "file.close()\n",
    "\n",
    "p = data['p']\n",
    "z = data['z']\n",
    "C = p[-1][0]"
   ]
  },
  {
   "attachments": {},
   "cell_type": "markdown",
   "id": "75984766",
   "metadata": {},
   "source": [
    "At the last layer, $i=\\mathrm{LL}$ which expresses how many times $d_0$ needs to be divided by $2$ in order to have $d_\\mathrm{LL}\\le 1$. Hence, $\\mathrm{LL} = \\mathrm{ceil} (\\log_2 (d_0))$.\n",
    "\n",
    "\n",
    "Next, we define the group generator $g$ that is used to express the $x$'s. One has $x_k = g^k$ which is to say that, at position $\\texttt{sample}$ one has $\\texttt{x = gen**sample}$.\n",
    "\n",
    "Recall the group cyclic structure:  \n",
    "\n",
    "\n",
    "<div>\n",
    "<img src=\"group_structure.png\" width=\"300\"/>\n",
    "</div>\n"
   ]
  },
  {
   "cell_type": "code",
   "execution_count": 7,
   "id": "e555a7eb",
   "metadata": {},
   "outputs": [
    {
     "name": "stdout",
     "output_type": "stream",
     "text": [
      "Last layer i = 4\n",
      "g = 7311\n"
     ]
    }
   ],
   "source": [
    "LL = int(np.ceil(np.log2(d0)))\n",
    "gen = Fp.primitive_element**((prime-1)//len(p[0]))\n",
    "\n",
    "print('Last layer i =', LL)\n",
    "print('gen =', gen)"
   ]
  },
  {
   "cell_type": "markdown",
   "id": "0c7abb26",
   "metadata": {},
   "source": [
    "### FRI Query Round\n",
    "\n",
    "1. Compute the $x$ corresponding to the position $\\texttt{sample}$ on layer $0$\n",
    "2. Retrieve $p_0(x)$ from the commitment of layer $0$ at position $\\texttt{sample}$\n",
    "3. Cycle through all layers $0< i < \\mathrm{LL}$ in sequence and perform the operations:\n",
    "\n",
    "    1. Define half of the length of the layer which is useful to locate $-x$ at position $\\texttt{sample-halflength}$\n",
    "    2. Retrieve $p_i(x)$ from the commitment of layer $i$ at position $\\texttt{sample-halflength}$\n",
    "    3. Compute $g(x^2) = (p_i(x) + p_i(-x))/2$\n",
    "    4. Compute $h(x^2) = (p_i(x) - p_i(-x))/(2x)$\n",
    "    5. Compute $p_{i+1}(x^2) = z_{i,0} \\, g(x^2) + z_{i,1} \\, h(x^2)$\n",
    "    6. Retrieve $p_{i+1}(x^2)$ from the commitment of layer $i+1$ at position $\\texttt{sample%halflength}$\n",
    "    7. Verify whether there is a match for $p_{i+1}(x^2)$\n",
    "    8. Set $x \\gets x^2$\n",
    "\n",
    "4. Test whether the last layer polynomial is constant: $p_{\\mathrm{LL}}(x) == C$."
   ]
  },
  {
   "cell_type": "code",
   "execution_count": 20,
   "id": "ee06b57f",
   "metadata": {},
   "outputs": [],
   "source": [
    "def verify(sample: int):\n",
    "    x = gen**sample\n",
    "    pplus = p[0][sample]\n",
    "    \n",
    "    # check consistency between layers\n",
    "    for i in range(LL):\n",
    "        half_length = len(p[i])//2\n",
    "        pminus = p[i][sample-half_length]\n",
    "        g = (pplus + pminus)/Fp(2)\n",
    "        h = (pplus - pminus)/(Fp(2)*x)\n",
    "        \n",
    "        pplus = z[i][0]*g + z[i][1]*h\n",
    "        sample = sample % half_length\n",
    "        assert pplus == p[i+1][sample], f'At position {sample}, layer {i+1} is not consistent with layer {i}.'\n",
    "        x = x**2\n",
    "        \n",
    "    # check that the last layer is equal to the specified constant\n",
    "    assert pplus == C, f'At position {sample}, the last layer \"Layer {i+1}\" does not equal the constant {C}.'\n",
    "    \n",
    "    print(f'For this specific sample, the FRI layers were consistent.')\n",
    "    "
   ]
  },
  {
   "cell_type": "markdown",
   "id": "57a26989",
   "metadata": {},
   "source": [
    "### Let us Verify!"
   ]
  },
  {
   "cell_type": "markdown",
   "id": "8171e953",
   "metadata": {},
   "source": [
    "verify(4)"
   ]
  },
  {
   "cell_type": "markdown",
   "id": "d46a2ada",
   "metadata": {},
   "source": [
    "### What if the verifier makes multiple random samples?"
   ]
  },
  {
   "cell_type": "code",
   "execution_count": 23,
   "id": "2ee166bf",
   "metadata": {},
   "outputs": [
    {
     "name": "stdout",
     "output_type": "stream",
     "text": [
      "samples = {35, 5, 38, 11, 15, 47}\n",
      " \n"
     ]
    },
    {
     "ename": "AssertionError",
     "evalue": "At position 3, the last layer \"Layer 4\" does not equal the constant 9698.",
     "output_type": "error",
     "traceback": [
      "\u001b[1;31m---------------------------------------------------------------------------\u001b[0m",
      "\u001b[1;31mAssertionError\u001b[0m                            Traceback (most recent call last)",
      "Cell \u001b[1;32mIn[23], line 5\u001b[0m\n\u001b[0;32m      2\u001b[0m \u001b[38;5;28mprint\u001b[39m(\u001b[38;5;124m'\u001b[39m\u001b[38;5;124msamples =\u001b[39m\u001b[38;5;124m'\u001b[39m, samples, end\u001b[38;5;241m=\u001b[39m\u001b[38;5;124m'\u001b[39m\u001b[38;5;130;01m\\n\u001b[39;00m\u001b[38;5;124m \u001b[39m\u001b[38;5;130;01m\\n\u001b[39;00m\u001b[38;5;124m'\u001b[39m)\n\u001b[0;32m      4\u001b[0m \u001b[38;5;28;01mfor\u001b[39;00m sample \u001b[38;5;129;01min\u001b[39;00m samples:\n\u001b[1;32m----> 5\u001b[0m     \u001b[43mverify\u001b[49m\u001b[43m(\u001b[49m\u001b[43msample\u001b[49m\u001b[43m)\u001b[49m\n\u001b[0;32m      6\u001b[0m     \u001b[38;5;28mprint\u001b[39m(\u001b[38;5;124mf\u001b[39m\u001b[38;5;124m'\u001b[39m\u001b[38;5;124mVerified -> \u001b[39m\u001b[38;5;132;01m{\u001b[39;00msample\u001b[38;5;132;01m}\u001b[39;00m\u001b[38;5;124m'\u001b[39m)\n",
      "Cell \u001b[1;32mIn[20], line 18\u001b[0m, in \u001b[0;36mverify\u001b[1;34m(sample)\u001b[0m\n\u001b[0;32m     15\u001b[0m     x \u001b[38;5;241m=\u001b[39m x\u001b[38;5;241m*\u001b[39m\u001b[38;5;241m*\u001b[39m\u001b[38;5;241m2\u001b[39m\n\u001b[0;32m     17\u001b[0m \u001b[38;5;66;03m# check that the last layer is equal to the specified constant\u001b[39;00m\n\u001b[1;32m---> 18\u001b[0m \u001b[38;5;28;01massert\u001b[39;00m pplus \u001b[38;5;241m==\u001b[39m C, \u001b[38;5;124mf\u001b[39m\u001b[38;5;124m'\u001b[39m\u001b[38;5;124mAt position \u001b[39m\u001b[38;5;132;01m{\u001b[39;00msample\u001b[38;5;132;01m}\u001b[39;00m\u001b[38;5;124m, the last layer \u001b[39m\u001b[38;5;124m\"\u001b[39m\u001b[38;5;124mLayer \u001b[39m\u001b[38;5;132;01m{\u001b[39;00mi\u001b[38;5;241m+\u001b[39m\u001b[38;5;241m1\u001b[39m\u001b[38;5;132;01m}\u001b[39;00m\u001b[38;5;124m\"\u001b[39m\u001b[38;5;124m does not equal the constant \u001b[39m\u001b[38;5;132;01m{\u001b[39;00mC\u001b[38;5;132;01m}\u001b[39;00m\u001b[38;5;124m.\u001b[39m\u001b[38;5;124m'\u001b[39m\n\u001b[0;32m     20\u001b[0m \u001b[38;5;28mprint\u001b[39m(\u001b[38;5;124mf\u001b[39m\u001b[38;5;124m'\u001b[39m\u001b[38;5;124mFor this specific sample, the FRI layers were consistent.\u001b[39m\u001b[38;5;124m'\u001b[39m)\n",
      "\u001b[1;31mAssertionError\u001b[0m: At position 3, the last layer \"Layer 4\" does not equal the constant 9698."
     ]
    }
   ],
   "source": [
    "samples = set([rand(d0*BUF, dtype=int) for i in range(6)])\n",
    "print('samples =', samples, end='\\n \\n')\n",
    "\n",
    "for sample in samples:\n",
    "    verify(sample)\n",
    "    print(f'Verified -> {sample}')"
   ]
  }
 ],
 "metadata": {
  "kernelspec": {
   "display_name": "Python 3 (ipykernel)",
   "language": "python",
   "name": "python3"
  },
  "language_info": {
   "codemirror_mode": {
    "name": "ipython",
    "version": 3
   },
   "file_extension": ".py",
   "mimetype": "text/x-python",
   "name": "python",
   "nbconvert_exporter": "python",
   "pygments_lexer": "ipython3",
   "version": "3.10.10"
  }
 },
 "nbformat": 4,
 "nbformat_minor": 5
}
