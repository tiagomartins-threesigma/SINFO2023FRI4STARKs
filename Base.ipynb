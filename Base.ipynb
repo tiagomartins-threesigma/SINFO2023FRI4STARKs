{
 "cells": [
  {
   "attachments": {},
   "cell_type": "markdown",
   "id": "44db904f",
   "metadata": {},
   "source": [
    "## https://github.com/tiagomartins-threesigma/SINFO2023FRI4STARKs"
   ]
  },
  {
   "cell_type": "code",
   "execution_count": 7,
   "id": "b8272be4",
   "metadata": {},
   "outputs": [],
   "source": [
    "import numpy as np\n",
    "from numpy.random import randint as rand\n",
    "import galois\n",
    "import matplotlib.pyplot as plt"
   ]
  },
  {
   "cell_type": "markdown",
   "id": "bbfa2803",
   "metadata": {},
   "source": [
    "At this point we want to define a finite field where all of the arithmetic operations will happen\n",
    "One way to do so is to define a large prime number $p$ and use the $\\texttt{galois}$ library to build a prime fiel $\\mathbb{F}_p$.\n",
    "\n",
    "Moreover, for the low-degree testing of the constraints, we must define a validity threshold, namely a degree bound $d_0$, such that all valid functions $p_0$ satisfy $\\mathrm{deg}(p_0)<d_0$. "
   ]
  },
  {
   "cell_type": "code",
   "execution_count": 8,
   "id": "a25f343b",
   "metadata": {},
   "outputs": [
    {
     "name": "stdout",
     "output_type": "stream",
     "text": [
      "prime = 12289\n"
     ]
    }
   ],
   "source": [
    "# Build the prime-order finite field\n",
    "prime = 3*2**12 +1\n",
    "assert prime % 2 != 0 or prime <= 2, \"It is not prime, it is even\"\n",
    "assert all(prime % i for i in range(3, int(np.sqrt(prime)) + 1, 2)), \"Is is not prime\"\n",
    "print('prime =', prime)\n",
    "Fp = galois.GF(prime)"
   ]
  },
  {
   "cell_type": "code",
   "execution_count": 9,
   "id": "e96a4d43",
   "metadata": {},
   "outputs": [],
   "source": [
    "# Define the threshold for low-degree testing\n",
    "d0 = 16 # initial degree bound\n",
    "BUF = 4 # blow-up factor\n",
    "assert (prime-1) % (BUF*d0) == 0 # check if a subgroup of that size exists"
   ]
  },
  {
   "cell_type": "markdown",
   "id": "9c5a8d0c",
   "metadata": {},
   "source": [
    "To make things easier, let's just define a function that prints  \n",
    "1. the polynomial coefficients of the function \n",
    "2. the evaluation of function on the domain\n",
    "\n",
    "This function also plots the function evaluation."
   ]
  },
  {
   "cell_type": "code",
   "execution_count": 10,
   "id": "769b2f3e",
   "metadata": {},
   "outputs": [],
   "source": [
    "def print_stuff(s:str, c, p):\n",
    "    print('\\n'+s)\n",
    "    print('c =', c)\n",
    "    print('p =', p)\n",
    "    L=len(p)\n",
    "    plt.plot([x / L for x in range(L + 1)], np.concatenate((p, [p[0]])))"
   ]
  }
 ],
 "metadata": {
  "kernelspec": {
   "display_name": "Python 3 (ipykernel)",
   "language": "python",
   "name": "python3"
  },
  "language_info": {
   "codemirror_mode": {
    "name": "ipython",
    "version": 3
   },
   "file_extension": ".py",
   "mimetype": "text/x-python",
   "name": "python",
   "nbconvert_exporter": "python",
   "pygments_lexer": "ipython3",
   "version": "3.10.10"
  }
 },
 "nbformat": 4,
 "nbformat_minor": 5
}
